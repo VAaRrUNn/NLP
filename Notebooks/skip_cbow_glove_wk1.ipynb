{
  "cells": [
    {
      "cell_type": "markdown",
      "metadata": {
        "id": "IVp48DQbttVj"
      },
      "source": [
        "## Importing necessary libraries"
      ]
    },
    {
      "cell_type": "markdown",
      "metadata": {},
      "source": [
        "### Make sure all necessary libraries are also installed."
      ]
    },
    {
      "cell_type": "code",
      "execution_count": null,
      "metadata": {
        "id": "tgUmJBtbttZq"
      },
      "outputs": [],
      "source": [
        "# Essential Libraries\n",
        "import torch\n",
        "import torch.nn as nn\n",
        "import torch.nn.functional as F\n",
        "import numpy as np\n",
        "import matplotlib.pyplot as plt\n",
        "import torch.optim as optim\n",
        "import seaborn as sns\n",
        "from datasets import load_dataset\n",
        "from torch.utils.data import DataLoader, Dataset, IterableDataset\n",
        "from sklearn.decomposition import TruncatedSVD\n",
        "\n",
        "\n",
        "# Other libraries\n",
        "import string\n",
        "import random\n",
        "import copy\n",
        "from tqdm.auto import tqdm\n",
        "import warnings\n",
        "from collections import defaultdict\n",
        "from functools import wraps\n",
        "\n",
        "# for type hint\n",
        "from typing import Tuple, List, Optional\n",
        "\n",
        "sns.set_theme(style=\"darkgrid\")\n",
        "warnings.filterwarnings('ignore')"
      ]
    },
    {
      "cell_type": "markdown",
      "metadata": {
        "id": "uYvWoyGaU0Cm"
      },
      "source": [
        "## Defining Hyper-parameters"
      ]
    },
    {
      "cell_type": "code",
      "execution_count": null,
      "metadata": {
        "id": "4IMSUBpjU3KE"
      },
      "outputs": [],
      "source": [
        "BATCH_SIZE = 2048\n",
        "NUM_NEGATIVE_SAMPLES = 5\n",
        "WINDOW_SIZE = 4"
      ]
    },
    {
      "cell_type": "markdown",
      "metadata": {
        "id": "6RSepvjrVCVu"
      },
      "source": [
        "## Datasets"
      ]
    },
    {
      "cell_type": "code",
      "execution_count": null,
      "metadata": {
        "id": "IrucMbVxttdy"
      },
      "outputs": [],
      "source": [
        "class CustomDataset(Dataset):\n",
        "  def __init__(self, num_sentences=10_000, batch_size=BATCH_SIZE, split=\"train\"):\n",
        "    self.rawdata = load_dataset(\"bookcorpus\", split=split, streaming=True)\n",
        "    self.new_data = list()\n",
        "\n",
        "    # useful things :)\n",
        "    self.batch_size = batch_size\n",
        "    self.num_sentences = num_sentences\n",
        "    self.word2idx = dict()\n",
        "    self.current_index = 0 # for updating word2idx\n",
        "\n",
        "    # execute\n",
        "    self._make_new_dataset()\n",
        "    self.idx2word = {k: v for v, k in self.word2idx.items()}\n",
        "    self.vocab_size = len(self.word2idx)\n",
        "\n",
        "  def __len__(self, ):\n",
        "    return len(self.new_data)\n",
        "\n",
        "  def __getitem__(self,\n",
        "                  idx: int):\n",
        "    return self.new_data[idx]\n",
        "\n",
        "\n",
        "  def __replace_unnecessary(self, sen):\n",
        "    to_replace = \"1234567890<>?[]{}_-+=&^%$#@!~`:;|\"\n",
        "    for char in to_replace:\n",
        "      sen = sen.replace(char, '')\n",
        "\n",
        "    sen = sen.replace('\\\\', '')\n",
        "    sen = sen.replace('//', '')\n",
        "    return sen\n",
        "\n",
        "  def _clean(self,\n",
        "             sentences:List[str]):\n",
        "    \"\"\"\n",
        "    Cleans the raw dataset. Extracts the text part of the sentences in the dataset.\n",
        "    Also updates the word2idx\n",
        "    \"\"\"\n",
        "    out = list()\n",
        "    for sentence in sentences:\n",
        "      text = sentence[\"text\"]\n",
        "      text = self.__replace_unnecessary(text)\n",
        "      out.append(text) # list of sentences\n",
        "\n",
        "    # mapping\n",
        "    for sentence in out:\n",
        "      for word in sentence.split():\n",
        "        word = str(word) # there are numbers too which are causing problems later :( it's just a ugly fix\n",
        "        if word not in self.word2idx.keys():\n",
        "          self.word2idx[word] = self.current_index\n",
        "          self.current_index += 1\n",
        "\n",
        "    return out\n",
        "\n",
        "  def _make_new_dataset(self):\n",
        "    \"\"\"\n",
        "    Makes new dataset from the given dataset.\n",
        "    The dataset was really huge, and we only need some sentences.\n",
        "    \"\"\"\n",
        "    temp_dataloader = DataLoader(self.rawdata, batch_size=self.batch_size, collate_fn=self._clean)\n",
        "    dataset_size = self.num_sentences // self.batch_size\n",
        "\n",
        "    for sentences in temp_dataloader:\n",
        "      self.new_data.extend(sentences)\n",
        "      dataset_size -= 1\n",
        "      if dataset_size == 0:\n",
        "        break"
      ]
    },
    {
      "cell_type": "code",
      "execution_count": null,
      "metadata": {
        "colab": {
          "base_uri": "https://localhost:8080/",
          "height": 113,
          "referenced_widgets": [
            "a6cf7efc20434b048f8bea6206575a6f",
            "46dc6d3277bb46e6a3937b04989621e2",
            "c4380d630fe041edb2227b65ea70ab45",
            "4c657852cbe74b89be109d0a6cca0f85",
            "1d7769d7675a48bb8e53d542a1850991",
            "95a62b42e8dc4d47bb880faa8beb5bd0",
            "4d953ccd53ef4b28ab1895c2462b5c30",
            "d0a15c82c5554e58a305a88eb519c642",
            "a018f8b9057e43d1ae135ed5883c8ca1",
            "3e21c83cc9634776be060a973752770a",
            "b5eb6a64f15d4c36866bccb0c69c3690",
            "68977679a8934c5f9a2130b18dcc3076",
            "8e05783ee16f43b89611f0d349a1570c",
            "b93beeaa62c645afaf996883d92b9e39",
            "6003cd3237d5451fabde0f17231d1717",
            "2b7c503a593b49539857915be6a969d7",
            "74ba0b5ddcbe4a7ca49e453d9414b85a",
            "f69bb041efd34f72aa09d2854d27581d",
            "6de56887fbb644048ce6536e0717e255",
            "b8feb00483fb4bd985f4091a4405ce67",
            "79b083f8cc8f4f35aa41255c34ad75fe",
            "7cac1f43afd64d40b02335871381f661",
            "63aebb8e313d4638bb3d860ace9f10ea",
            "e350ad92a3374b31b1890c1dc5012c60",
            "42aca408964946daa133e2567fbe34f1",
            "6f6720ce03064e7a9c8b1a441a83c8e8",
            "f27b8063155348e6b7d2cd399d6c7b5f",
            "07d9e920a29642508de88733fdcbcf85",
            "48c6acd3bd23448c84be942ac095084d",
            "bc3c6382262441149637e5616e7e2315",
            "618341c1f1af4e66b84c5f9042ac0cfd",
            "126aaff701f44d03bc815964c8157b4b",
            "a2d047f74e9c431189b0caba1ce905c5"
          ]
        },
        "id": "sP5NGU76tth6",
        "outputId": "1b887775-c360-4ab9-9e22-0ed578124bc9"
      },
      "outputs": [
        {
          "data": {
            "application/vnd.jupyter.widget-view+json": {
              "model_id": "a6cf7efc20434b048f8bea6206575a6f",
              "version_major": 2,
              "version_minor": 0
            },
            "text/plain": [
              "Downloading builder script:   0%|          | 0.00/3.25k [00:00<?, ?B/s]"
            ]
          },
          "metadata": {},
          "output_type": "display_data"
        },
        {
          "data": {
            "application/vnd.jupyter.widget-view+json": {
              "model_id": "68977679a8934c5f9a2130b18dcc3076",
              "version_major": 2,
              "version_minor": 0
            },
            "text/plain": [
              "Downloading metadata:   0%|          | 0.00/1.67k [00:00<?, ?B/s]"
            ]
          },
          "metadata": {},
          "output_type": "display_data"
        },
        {
          "data": {
            "application/vnd.jupyter.widget-view+json": {
              "model_id": "63aebb8e313d4638bb3d860ace9f10ea",
              "version_major": 2,
              "version_minor": 0
            },
            "text/plain": [
              "Downloading readme:   0%|          | 0.00/6.48k [00:00<?, ?B/s]"
            ]
          },
          "metadata": {},
          "output_type": "display_data"
        }
      ],
      "source": [
        "dataset = CustomDataset(num_sentences=100, batch_size=2)\n",
        "vocab_size = dataset.vocab_size\n",
        "word2idx = dataset.word2idx\n",
        "idx2word = dataset.idx2word\n",
        "\n",
        "dataloader = DataLoader(dataset=dataset, batch_size=BATCH_SIZE, shuffle=True)"
      ]
    },
    {
      "cell_type": "code",
      "execution_count": null,
      "metadata": {
        "colab": {
          "base_uri": "https://localhost:8080/"
        },
        "id": "j_lsMQ_v2yRI",
        "outputId": "311dc431-7dba-4b92-ae15-06a2a03efca1"
      },
      "outputs": [
        {
          "data": {
            "text/plain": [
              "192"
            ]
          },
          "execution_count": 9,
          "metadata": {},
          "output_type": "execute_result"
        }
      ],
      "source": [
        "word2idx[\"standing\"]"
      ]
    },
    {
      "cell_type": "code",
      "execution_count": null,
      "metadata": {
        "id": "c8gBWgdSttqc"
      },
      "outputs": [],
      "source": [
        "device = \"cuda\" if torch.cuda.is_available() else \"cpu\""
      ]
    },
    {
      "cell_type": "markdown",
      "metadata": {
        "id": "XibP9bebttuy"
      },
      "source": [
        "\n",
        "## Making the dataset for model training"
      ]
    },
    {
      "cell_type": "code",
      "execution_count": null,
      "metadata": {
        "id": "codECviHttyq"
      },
      "outputs": [],
      "source": [
        "class TrainDataset(Dataset):\n",
        "  def __init__(self,\n",
        "               dataset: torch.utils.data.Dataset,\n",
        "               window_size: int,\n",
        "               sentences_dataloader: torch.utils.data.DataLoader,\n",
        "               negative_samples: int = 0,):\n",
        "    \"\"\"\n",
        "    Dataset for traning Language model\n",
        "    Args:\n",
        "      dataset: The corrosponding dataset of the dataloader\n",
        "      window_size: The context_window size\n",
        "      sentences_dataloader: The dataloder which returns list of sentences\n",
        "      negative_samples: Number of negative samples to generate per word\n",
        "\n",
        "    Returns:\n",
        "      ?\n",
        "    \"\"\"\n",
        "\n",
        "    self.old_dataset = dataset\n",
        "    self.dataloader = sentences_dataloader\n",
        "    self.negative_samples = negative_samples\n",
        "    self.window_size =window_size\n",
        "\n",
        "    self.negative_sampling = True if self.negative_samples != 0 else False\n",
        "\n",
        "    # List of tuples i.e. (context_word, center_word, 0/1)\n",
        "    self.dataset = list() # the new dataset\n",
        "    self.execute()\n",
        "\n",
        "  def __len__(self, ):\n",
        "    return len(self.dataset)\n",
        "\n",
        "  def __def_value(self):\n",
        "    # idk some error in code ig, so for now making it 1\n",
        "    return 1\n",
        "\n",
        "  def __getitem__(self, idx):\n",
        "    center_word, context_word, relation = self.dataset[idx]\n",
        "    w2i = self.old_dataset.word2idx\n",
        "    center_word, context_word, relation = torch.tensor(w2i[str(center_word)]), torch.tensor(w2i[str(context_word)]), torch.tensor(relation)\n",
        "    return center_word, context_word, relation\n",
        "\n",
        "  def execute(self,):\n",
        "    \"\"\"\n",
        "    Execute all the necessary steps\n",
        "    \"\"\"\n",
        "    self.freq_counts = self.__create_freq_dict()\n",
        "    if self.negative_sampling:\n",
        "      self.neg_dict = self.__create_neg_dict()\n",
        "\n",
        "    # execute to make new dataset\n",
        "    self.__make_dataset()\n",
        "\n",
        "\n",
        "  def __generate_samples(self, sentences):\n",
        "    for sen in sentences:\n",
        "      words = sen.split()\n",
        "      for idx, center_word in enumerate(words[self.window_size: len(words)-self.window_size-1]):\n",
        "        context_words = [context_word for context_word in words[idx: idx+self.window_size*2-1] if context_word != center_word]\n",
        "\n",
        "        # Subsampling\n",
        "        for context_word in context_words:\n",
        "          if not self.__to_discard(context_word):\n",
        "            continue\n",
        "\n",
        "          self.dataset.append((center_word, context_word, 1))\n",
        "\n",
        "        # Negative sampling\n",
        "        if self.negative_sampling:\n",
        "          neg_samples = self.__choose_negative_examples()\n",
        "          for neg_sample in neg_samples:\n",
        "            self.dataset.append((center_word, neg_sample, 0))\n",
        "\n",
        "  def __make_dataset(self):\n",
        "    for sentences in self.dataloader:\n",
        "      self.__generate_samples(sentences)\n",
        "\n",
        "\n",
        "  def __choose_negative_examples(self):\n",
        "    negative_words = []\n",
        "    return random.choices(list(self.neg_dict.keys()),\n",
        "                          weights=list(self.neg_dict.values()),\n",
        "                          k=self.negative_samples)\n",
        "\n",
        "\n",
        "  def __discarding_prob(self, word, threshold=1e-5) -> float:\n",
        "    \"\"\"\n",
        "    Given a word it returns the probability of discarding it.\n",
        "    It is for subsampling\n",
        "    The Probability is given by:\n",
        "      P = 1 - sqrt(1/word_frequency)\n",
        "\n",
        "    Args:\n",
        "      word: Word for which we want the discarding probability\n",
        "    \"\"\"\n",
        "    return 1 - np.sqrt(threshold / self.freq_counts[str(word)])\n",
        "\n",
        "  def __to_discard(self, word, threshold=1e-5) -> bool:\n",
        "    \"\"\"\n",
        "    Returns False to not discard the words and vice-versa\n",
        "    \"\"\"\n",
        "    discarding_probability = self.__discarding_prob(word, threshold)\n",
        "    deciding_prob = random.uniform(0, 1)\n",
        "    return False if discarding_probability > deciding_prob else True\n",
        "\n",
        "  def __create_neg_dict(self, ):\n",
        "    neg_dict = self.__create_freq_dict(normalize=False)\n",
        "    z = 0\n",
        "    for k, v in neg_dict.items():\n",
        "      neg_dict[k] = v ** (3/4)\n",
        "      z += neg_dict[k]\n",
        "\n",
        "    for k, b in neg_dict.items():\n",
        "      neg_dict[k] /= z\n",
        "\n",
        "    return neg_dict\n",
        "\n",
        "  def __create_freq_dict(self, normalize=True):\n",
        "    \"\"\"\n",
        "    calculating the frequency of each unique_word in the corpus\n",
        "    then normalizing it (cause it is directly realed to the subsampling formula)\n",
        "    \"\"\"\n",
        "    freq_counts = defaultdict(self.__def_value)\n",
        "    total_frequency = 0\n",
        "    for sentences in self.dataloader:\n",
        "      temp = ''.join(sentences)\n",
        "      for word in word2idx.keys():\n",
        "        freq_counts[word] += temp.count(word)\n",
        "        total_frequency += 1\n",
        "\n",
        "    # Normalizing the frequency values\n",
        "    if normalize:\n",
        "      for k, v in freq_counts.items():\n",
        "        freq_counts[k] = v/total_frequency\n",
        "    return freq_counts\n"
      ]
    },
    {
      "cell_type": "code",
      "execution_count": null,
      "metadata": {
        "id": "8g1LHg8itt29"
      },
      "outputs": [],
      "source": [
        "temp_dataset = CustomDataset()\n",
        "temp_dataloader = DataLoader(dataset=temp_dataset, batch_size=BATCH_SIZE, shuffle=True)\n",
        "\n",
        "dataset = TrainDataset(window_size = 2,\n",
        "                       dataset = temp_dataset,\n",
        "                       sentences_dataloader = temp_dataloader,\n",
        "                       negative_samples = 1)\n",
        "dataloader = DataLoader(dataset=dataset, batch_size=BATCH_SIZE, shuffle=True)"
      ]
    },
    {
      "cell_type": "code",
      "execution_count": null,
      "metadata": {
        "colab": {
          "base_uri": "https://localhost:8080/"
        },
        "id": "qdt5POfVCu4g",
        "outputId": "aa2df6c0-e7d4-471f-f134-048a93bcff08"
      },
      "outputs": [
        {
          "data": {
            "text/plain": [
              "(torch.Tensor, torch.Tensor, torch.Tensor)"
            ]
          },
          "execution_count": 13,
          "metadata": {},
          "output_type": "execute_result"
        }
      ],
      "source": [
        "center_words, context_words, relations = next(iter(dataloader))\n",
        "type(center_words), type(context_words), type(relations)"
      ]
    },
    {
      "cell_type": "markdown",
      "metadata": {
        "id": "MD2KfapjCC0A"
      },
      "source": [
        "## Models"
      ]
    },
    {
      "cell_type": "code",
      "execution_count": null,
      "metadata": {
        "id": "u-76MaOXtuHi"
      },
      "outputs": [],
      "source": [
        "class BaseModel(nn.Module):\n",
        "  \"\"\"\n",
        "  Abstract class for other models :).\n",
        "  \"\"\"\n",
        "  def __init__(self, ):\n",
        "    super().__init__()\n",
        "    self.embd_layer = None # have to overrite this for visualization function\n",
        "\n",
        "  def visualize(self,\n",
        "                idx2word,\n",
        "                title:str = \"Default\",\n",
        "                axes=None,\n",
        "                words: int=-1):\n",
        "    svd = TruncatedSVD(n_components=2, random_state=41)\n",
        "    embs = self.embd_layer.weight.data.detach().cpu()\n",
        "\n",
        "    if words != -1:\n",
        "      embs = embs[:words]\n",
        "    else:\n",
        "      print(f\"Provide words parameter...\")\n",
        "      return\n",
        "\n",
        "    new_embs = svd.fit_transform(embs)\n",
        "    total_words = new_embs.shape[0]\n",
        "    if not axes:\n",
        "      for i in range(total_words):\n",
        "        plt.scatter(new_embs[i, 0], new_embs[i, 1], marker=\"x\", color=\"red\")\n",
        "        plt.annotate(idx2word[i], (new_embs[i, 0], new_embs[i, 1]))\n",
        "        plt.title(title, fontweight=\"bold\", color=\"blue\")\n",
        "    else:\n",
        "      for i in range(total_words):\n",
        "        axes.scatter(new_embs[i, 0], new_embs[i, 1], marker=\"x\", color=\"red\")\n",
        "        axes.annotate(idx2word[i], (new_embs[i, 0], new_embs[i, 1]))\n",
        "        axes.set_title(title, fontweight=\"bold\", color=\"blue\")\n",
        "\n",
        "  def base_train(self,\n",
        "                 inputs,\n",
        "                 loss_fn,\n",
        "                 device):\n",
        "    \"\"\"\n",
        "    Overwrite this for specific model\n",
        "    Returns the loss\n",
        "    \"\"\"\n",
        "    print(\"Implement this...\")\n",
        "    raise NotImplementedError\n",
        "\n",
        "  def plot_loss(self, axes=None, title=\"Training\"):\n",
        "    if not axes:\n",
        "      plt.plot(range(len(self.losses)), self.losses, label=\"losses (per-batch)\")\n",
        "      plt.title(title)\n",
        "      plt.legend()\n",
        "\n",
        "    else:\n",
        "      axes.plot(range(len(self.losses)), self.losses, label=\"losses (per-batch)\")\n",
        "      axes.set_title(title)\n",
        "      axes.legend()\n",
        "\n",
        "  # training name is not working idk why :(\n",
        "  def t(self,\n",
        "            *,\n",
        "            epochs,\n",
        "            optimizer,\n",
        "            dataloader,\n",
        "            device,\n",
        "            loss_fn,\n",
        "            stats = True):\n",
        "    \"\"\"\n",
        "    Function to train the model\n",
        "    \"\"\"\n",
        "    if stats:\n",
        "      # Currently they are per-batch\n",
        "      self.losses = []\n",
        "      self.acc = []\n",
        "\n",
        "    self.to(device)\n",
        "    self.train()\n",
        "    for epoch in tqdm(range(epochs)):\n",
        "      for inputs in dataloader:\n",
        "        optimizer.zero_grad()\n",
        "\n",
        "        # Model specific\n",
        "        loss = self.base_train(inputs, loss_fn, device)\n",
        "        if stats:\n",
        "          self.losses.append(loss.item())\n",
        "\n",
        "        loss.backward()\n",
        "        optimizer.step()\n"
      ]
    },
    {
      "cell_type": "code",
      "execution_count": null,
      "metadata": {
        "colab": {
          "base_uri": "https://localhost:8080/"
        },
        "id": "u9P1VQ3NZmeQ",
        "outputId": "b416dd51-6330-417f-e5a3-7b6950701df0"
      },
      "outputs": [
        {
          "data": {
            "text/plain": [
              "Word2Vec(\n",
              "  (embd_layer): Embedding(533, 300)\n",
              ")"
            ]
          },
          "execution_count": 15,
          "metadata": {},
          "output_type": "execute_result"
        }
      ],
      "source": [
        "class Word2Vec(BaseModel):\n",
        "    def __init__(self, emb_dim=300, vocab_size=vocab_size):\n",
        "        super().__init__()\n",
        "        self.embd_layer = nn.Embedding(vocab_size, emb_dim)\n",
        "\n",
        "    def base_train(self,\n",
        "                   inputs,\n",
        "                   loss_fn,\n",
        "                   device):\n",
        "      center_words, context_words, relations = inputs\n",
        "      relations = relations.type(torch.float32)\n",
        "      center_words, context_words, relations = center_words.to(device), context_words.to(device), relations.to(device)\n",
        "      probs = self(context_words, center_words)\n",
        "      loss = loss_fn(probs, relations)\n",
        "      return loss\n",
        "\n",
        "    def forward(self, context_words, center_words):\n",
        "      context_emb = self.embd_layer(context_words) # (batch_size, emb_dim)\n",
        "      center_emb = self.embd_layer(center_words) # (batch_size, emb_dim)\n",
        "      return F.sigmoid(torch.sum((context_emb * center_emb), dim=1)) # (batch_size)\n",
        "\n",
        "word2vec = Word2Vec()\n",
        "word2vec"
      ]
    },
    {
      "cell_type": "markdown",
      "metadata": {
        "id": "kBkjuRtBtt_T"
      },
      "source": [
        "## Datasets & Dataloader (For training and Inference) (word2vec)"
      ]
    },
    {
      "cell_type": "code",
      "execution_count": null,
      "metadata": {
        "id": "UEARTDGFDXSr"
      },
      "outputs": [],
      "source": [
        "# Some Hyperparameters\n",
        "BATCH_SIZE = 2048\n",
        "NUM_NEGATIVE_SAMPLES = 2\n",
        "WINDOW_SIZE = 4\n",
        "\n",
        "\n",
        "# For training (word2vec)\n",
        "temp_train_dataset = CustomDataset(split=\"train\")\n",
        "temp_train_dataloader = DataLoader(dataset=temp_train_dataset, batch_size=BATCH_SIZE, shuffle=True)\n",
        "\n",
        "def get_hparams(dataset):\n",
        "  return dataset.vocab_size, dataset.word2idx, dataset.idx2word\n",
        "\n",
        "train_vocab_size, train_word2idx, train_idx2word = get_hparams(temp_train_dataset)\n",
        "train_data = TrainDataset(dataset=temp_train_dataset,\n",
        "                          window_size = WINDOW_SIZE,\n",
        "                          sentences_dataloader = temp_train_dataloader,\n",
        "                          negative_samples = NUM_NEGATIVE_SAMPLES)\n",
        "train_dataloader = DataLoader(dataset=train_data,\n",
        "                              batch_size=BATCH_SIZE,\n",
        "                              shuffle=True)\n"
      ]
    },
    {
      "cell_type": "markdown",
      "metadata": {
        "id": "ohhi5bOgqjjL"
      },
      "source": [
        "## Training Word2Vec using skip-gram"
      ]
    },
    {
      "cell_type": "code",
      "execution_count": null,
      "metadata": {
        "colab": {
          "base_uri": "https://localhost:8080/",
          "height": 49,
          "referenced_widgets": [
            "ac3b07830ab043e8a5c1a1bf517ffa87",
            "910b6a506b1e4f20abb03fc1b9c63b46",
            "1fc2154901cd4ac9bd61b6ec704ccde1",
            "50d4833736ca44e78fe1d8839c332fd3",
            "474acc2677144ddfa39ce4002edfc9a7",
            "4a1ffaebf444441c81d93732f24ffc0b",
            "7b1679818b534d01b707538c8bc7872e",
            "eacdc046df644c6ba8412d297a4f59d0",
            "218714e9c3de42d9b24fcae74106eefc",
            "d126190f36944758b1e467a882145063",
            "ba23c6bd6ced44329924f3f149823f28"
          ]
        },
        "id": "iZuZIe_8tuLq",
        "outputId": "0586f719-0030-4ffa-b333-6828f0f0944c"
      },
      "outputs": [
        {
          "data": {
            "application/vnd.jupyter.widget-view+json": {
              "model_id": "ac3b07830ab043e8a5c1a1bf517ffa87",
              "version_major": 2,
              "version_minor": 0
            },
            "text/plain": [
              "  0%|          | 0/10 [00:00<?, ?it/s]"
            ]
          },
          "metadata": {},
          "output_type": "display_data"
        }
      ],
      "source": [
        "center_words, context_words, relations = next(iter(train_dataloader))\n",
        "untrained_word2vec = Word2Vec(vocab_size=train_vocab_size)\n",
        "word2vec = Word2Vec(vocab_size=train_vocab_size)\n",
        "\n",
        "optimizer = torch.optim.AdamW(params=word2vec.parameters(), lr=1e-3)\n",
        "loss_fn = nn.BCELoss()\n",
        "device = \"cuda\" if torch.cuda.is_available() else \"cpu\"\n",
        "\n",
        "word2vec.t(epochs=10,\n",
        "               optimizer=optimizer,\n",
        "               device=device,\n",
        "               dataloader=train_dataloader,\n",
        "               loss_fn=loss_fn,\n",
        "               stats=True)"
      ]
    },
    {
      "cell_type": "code",
      "execution_count": null,
      "metadata": {
        "colab": {
          "base_uri": "https://localhost:8080/",
          "height": 457
        },
        "id": "q1MxhjqCJyRn",
        "outputId": "a76fffa5-73c4-4a08-855f-aacc028b2118"
      },
      "outputs": [
        {
          "data": {
            "image/png": "[encoded data removed]",
            "text/plain": [
              "<Figure size 640x480 with 1 Axes>"
            ]
          },
          "metadata": {},
          "output_type": "display_data"
        }
      ],
      "source": [
        "word2vec.plot_loss()"
      ]
    },
    {
      "cell_type": "code",
      "execution_count": null,
      "metadata": {
        "colab": {
          "base_uri": "https://localhost:8080/",
          "height": 367
        },
        "id": "ffxxjljwZu04",
        "outputId": "5ea7a1ed-954d-4675-9509-e6d0b5a76b9a"
      },
      "outputs": [
        {
          "data": {
            "image/png": "[encoded data removed]",
            "text/plain": [
              "<Figure size 2000x500 with 2 Axes>"
            ]
          },
          "metadata": {},
          "output_type": "display_data"
        }
      ],
      "source": [
        "fig, ax = plt.subplots(1, 2, figsize=(20, 5))\n",
        "\n",
        "untrained_word2vec.visualize(words=50, title=\"Untrained Model\", axes=ax[0], idx2word=train_idx2word)\n",
        "word2vec.visualize(words=50, title=\"Trained Model\", axes=ax[1], idx2word=train_idx2word)"
      ]
    },
    {
      "cell_type": "markdown",
      "metadata": {
        "id": "d9vsJlGWtuPu"
      },
      "source": [
        "## CBOW"
      ]
    },
    {
      "cell_type": "code",
      "execution_count": null,
      "metadata": {
        "id": "uyDtPlKWtuYT"
      },
      "outputs": [],
      "source": [
        "class CBOW(BaseModel):\n",
        "  \"\"\"\n",
        "  Given context words predict center word.\n",
        "  \"\"\"\n",
        "  def __init__(self, emb_dim=300, vocab_size=vocab_size):\n",
        "    super().__init__()\n",
        "    self.embd_layer = nn.Embedding(vocab_size, emb_dim)\n",
        "    self.linear = nn.Linear(emb_dim, vocab_size)\n",
        "\n",
        "  def base_train(self,\n",
        "                  inputs,\n",
        "                  loss_fn,\n",
        "                  device):\n",
        "    center_words, context_words, relations = inputs\n",
        "    relations = relations.type(torch.float32)\n",
        "    center_words, context_words, relations = center_words.to(device), context_words.to(device), relations.to(device)\n",
        "\n",
        "\n",
        "    probs = self(context_words)\n",
        "    loss = loss_fn(probs, center_words)\n",
        "    return loss\n",
        "\n",
        "  def forward(self, context_words):\n",
        "    context_emb = self.embd_layer(context_words)\n",
        "    return self.linear(context_emb)\n"
      ]
    },
    {
      "cell_type": "code",
      "execution_count": null,
      "metadata": {
        "id": "His2P-E7Fu4C"
      },
      "outputs": [],
      "source": [
        "# Some Hyperparameters\n",
        "BATCH_SIZE = 2048\n",
        "NUM_NEGATIVE_SAMPLES = 0\n",
        "WINDOW_SIZE = 4\n",
        "\n",
        "\n",
        "# For training (word2vec)\n",
        "temp_train_dataset = CustomDataset(num_sentences=100_000, split=\"train\")\n",
        "temp_train_dataloader = DataLoader(dataset=temp_train_dataset, batch_size=BATCH_SIZE, shuffle=True)\n",
        "\n",
        "def get_hparams(dataset):\n",
        "  return dataset.vocab_size, dataset.word2idx, dataset.idx2word\n",
        "\n",
        "train_vocab_size, train_word2idx, train_idx2word = get_hparams(temp_train_dataset)\n",
        "train_data = TrainDataset(dataset=temp_train_dataset,\n",
        "                          window_size = WINDOW_SIZE,\n",
        "                          sentences_dataloader = temp_train_dataloader,\n",
        "                          negative_samples = NUM_NEGATIVE_SAMPLES)\n",
        "train_dataloader = DataLoader(dataset=train_data,\n",
        "                              batch_size=BATCH_SIZE,\n",
        "                              shuffle=True)\n"
      ]
    },
    {
      "cell_type": "code",
      "execution_count": null,
      "metadata": {
        "colab": {
          "base_uri": "https://localhost:8080/",
          "height": 49,
          "referenced_widgets": [
            "77bfb7c616e0479292a0824be4f9e912",
            "b14dcb7522fa45cda5b63104fa09fd88",
            "85502d6cb15e4097a90d3535aacf5bcf",
            "cc9892215eba4a09856c6f6f9538e841",
            "92ec5d7fc7a543249d3e1dffb0d9050e",
            "5080bc8cfd3c47a399755bfacfb3a90b",
            "2f58ebfe119b40afa92c6309c9e34d67",
            "58ecb88ed65249c5bc1faa0714e127a5",
            "6a0fd2f6fad7470bb0718a7441d895e3",
            "cb84f885bd2840c2aa1f3f8f5c55b286",
            "8e3d00f6829e4316a1291800919b4797"
          ]
        },
        "id": "mgOLm8Cituch",
        "outputId": "bac4c40e-b15e-4b8b-df8c-a05cafa37264"
      },
      "outputs": [
        {
          "data": {
            "application/vnd.jupyter.widget-view+json": {
              "model_id": "77bfb7c616e0479292a0824be4f9e912",
              "version_major": 2,
              "version_minor": 0
            },
            "text/plain": [
              "  0%|          | 0/100 [00:00<?, ?it/s]"
            ]
          },
          "metadata": {},
          "output_type": "display_data"
        }
      ],
      "source": [
        "center_words, context_words, relations = next(iter(train_dataloader))\n",
        "untrained_cbow = CBOW(vocab_size=train_vocab_size)\n",
        "cbow = CBOW(vocab_size=train_vocab_size)\n",
        "\n",
        "optimizer = torch.optim.AdamW(params=word2vec.parameters(), lr=1e-3)\n",
        "loss_fn = nn.CrossEntropyLoss()\n",
        "device = \"cuda\" if torch.cuda.is_available() else \"cpu\"\n",
        "\n",
        "cbow.t(epochs=100,\n",
        "               optimizer=optimizer,\n",
        "               device=device,\n",
        "               dataloader=train_dataloader,\n",
        "               loss_fn=loss_fn,\n",
        "               stats=True)"
      ]
    },
    {
      "cell_type": "code",
      "execution_count": null,
      "metadata": {
        "colab": {
          "base_uri": "https://localhost:8080/",
          "height": 457
        },
        "id": "JBMeQXBetug8",
        "outputId": "ef78aa86-290a-45d5-8823-86615bbed948"
      },
      "outputs": [
        {
          "data": {
            "image/png": "[encoded data removed]",
            "text/plain": [
              "<Figure size 640x480 with 1 Axes>"
            ]
          },
          "metadata": {},
          "output_type": "display_data"
        }
      ],
      "source": [
        "cbow.plot_loss()"
      ]
    },
    {
      "cell_type": "code",
      "execution_count": null,
      "metadata": {
        "colab": {
          "base_uri": "https://localhost:8080/",
          "height": 457
        },
        "id": "KTSWXTMIZWoY",
        "outputId": "000fb281-1ca7-4518-b397-6433de40c973"
      },
      "outputs": [
        {
          "data": {
            "image/png": "[encoded data removed]",
            "text/plain": [
              "<Figure size 640x480 with 1 Axes>"
            ]
          },
          "metadata": {},
          "output_type": "display_data"
        }
      ],
      "source": [
        "cbow.visualize(words=50, idx2word=train_idx2word)"
      ]
    },
    {
      "cell_type": "markdown",
      "metadata": {
        "id": "LwV959jjtupd"
      },
      "source": [
        "## Glove"
      ]
    },
    {
      "cell_type": "code",
      "execution_count": null,
      "metadata": {
        "id": "Vv3p87PGtutz"
      },
      "outputs": [],
      "source": []
    },
    {
      "cell_type": "code",
      "execution_count": null,
      "metadata": {
        "id": "fgfiKqgVtux6"
      },
      "outputs": [],
      "source": []
    },
    {
      "cell_type": "code",
      "execution_count": null,
      "metadata": {
        "id": "GOL_b1CQtu19"
      },
      "outputs": [],
      "source": []
    }
  ],
  "metadata": {
    "accelerator": "GPU",
    "colab": {
      "gpuType": "T4",
      "provenance": []
    },
    "kernelspec": {
      "display_name": "Python 3",
      "name": "python3"
    },
    "language_info": {
      "codemirror_mode": {
        "name": "ipython",
        "version": 3
      },
      "file_extension": ".py",
      "mimetype": "text/x-python",
      "name": "python",
      "nbconvert_exporter": "python",
      "pygments_lexer": "ipython3",
      "version": "3.10.12"
    },
    "widgets": {
      "application/vnd.jupyter.widget-state+json": {
        "07d9e920a29642508de88733fdcbcf85": {
          "model_module": "@jupyter-widgets/base",
          "model_module_version": "1.2.0",
          "model_name": "LayoutModel",
          "state": {
            "_model_module": "@jupyter-widgets/base",
            "_model_module_version": "1.2.0",
            "_model_name": "LayoutModel",
            "_view_count": null,
            "_view_module": "@jupyter-widgets/base",
            "_view_module_version": "1.2.0",
            "_view_name": "LayoutView",
            "align_content": null,
            "align_items": null,
            "align_self": null,
            "border": null,
            "bottom": null,
            "display": null,
            "flex": null,
            "flex_flow": null,
            "grid_area": null,
            "grid_auto_columns": null,
            "grid_auto_flow": null,
            "grid_auto_rows": null,
            "grid_column": null,
            "grid_gap": null,
            "grid_row": null,
            "grid_template_areas": null,
            "grid_template_columns": null,
            "grid_template_rows": null,
            "height": null,
            "justify_content": null,
            "justify_items": null,
            "left": null,
            "margin": null,
            "max_height": null,
            "max_width": null,
            "min_height": null,
            "min_width": null,
            "object_fit": null,
            "object_position": null,
            "order": null,
            "overflow": null,
            "overflow_x": null,
            "overflow_y": null,
            "padding": null,
            "right": null,
            "top": null,
            "visibility": null,
            "width": null
          }
        },
        "126aaff701f44d03bc815964c8157b4b": {
          "model_module": "@jupyter-widgets/base",
          "model_module_version": "1.2.0",
          "model_name": "LayoutModel",
          "state": {
            "_model_module": "@jupyter-widgets/base",
            "_model_module_version": "1.2.0",
            "_model_name": "LayoutModel",
            "_view_count": null,
            "_view_module": "@jupyter-widgets/base",
            "_view_module_version": "1.2.0",
            "_view_name": "LayoutView",
            "align_content": null,
            "align_items": null,
            "align_self": null,
            "border": null,
            "bottom": null,
            "display": null,
            "flex": null,
            "flex_flow": null,
            "grid_area": null,
            "grid_auto_columns": null,
            "grid_auto_flow": null,
            "grid_auto_rows": null,
            "grid_column": null,
            "grid_gap": null,
            "grid_row": null,
            "grid_template_areas": null,
            "grid_template_columns": null,
            "grid_template_rows": null,
            "height": null,
            "justify_content": null,
            "justify_items": null,
            "left": null,
            "margin": null,
            "max_height": null,
            "max_width": null,
            "min_height": null,
            "min_width": null,
            "object_fit": null,
            "object_position": null,
            "order": null,
            "overflow": null,
            "overflow_x": null,
            "overflow_y": null,
            "padding": null,
            "right": null,
            "top": null,
            "visibility": null,
            "width": null
          }
        },
        "1d7769d7675a48bb8e53d542a1850991": {
          "model_module": "@jupyter-widgets/base",
          "model_module_version": "1.2.0",
          "model_name": "LayoutModel",
          "state": {
            "_model_module": "@jupyter-widgets/base",
            "_model_module_version": "1.2.0",
            "_model_name": "LayoutModel",
            "_view_count": null,
            "_view_module": "@jupyter-widgets/base",
            "_view_module_version": "1.2.0",
            "_view_name": "LayoutView",
            "align_content": null,
            "align_items": null,
            "align_self": null,
            "border": null,
            "bottom": null,
            "display": null,
            "flex": null,
            "flex_flow": null,
            "grid_area": null,
            "grid_auto_columns": null,
            "grid_auto_flow": null,
            "grid_auto_rows": null,
            "grid_column": null,
            "grid_gap": null,
            "grid_row": null,
            "grid_template_areas": null,
            "grid_template_columns": null,
            "grid_template_rows": null,
            "height": null,
            "justify_content": null,
            "justify_items": null,
            "left": null,
            "margin": null,
            "max_height": null,
            "max_width": null,
            "min_height": null,
            "min_width": null,
            "object_fit": null,
            "object_position": null,
            "order": null,
            "overflow": null,
            "overflow_x": null,
            "overflow_y": null,
            "padding": null,
            "right": null,
            "top": null,
            "visibility": null,
            "width": null
          }
        },
        "1fc2154901cd4ac9bd61b6ec704ccde1": {
          "model_module": "@jupyter-widgets/controls",
          "model_module_version": "1.5.0",
          "model_name": "FloatProgressModel",
          "state": {
            "_dom_classes": [],
            "_model_module": "@jupyter-widgets/controls",
            "_model_module_version": "1.5.0",
            "_model_name": "FloatProgressModel",
            "_view_count": null,
            "_view_module": "@jupyter-widgets/controls",
            "_view_module_version": "1.5.0",
            "_view_name": "ProgressView",
            "bar_style": "success",
            "description": "",
            "description_tooltip": null,
            "layout": "IPY_MODEL_eacdc046df644c6ba8412d297a4f59d0",
            "max": 10,
            "min": 0,
            "orientation": "horizontal",
            "style": "IPY_MODEL_218714e9c3de42d9b24fcae74106eefc",
            "value": 10
          }
        },
        "218714e9c3de42d9b24fcae74106eefc": {
          "model_module": "@jupyter-widgets/controls",
          "model_module_version": "1.5.0",
          "model_name": "ProgressStyleModel",
          "state": {
            "_model_module": "@jupyter-widgets/controls",
            "_model_module_version": "1.5.0",
            "_model_name": "ProgressStyleModel",
            "_view_count": null,
            "_view_module": "@jupyter-widgets/base",
            "_view_module_version": "1.2.0",
            "_view_name": "StyleView",
            "bar_color": null,
            "description_width": ""
          }
        },
        "2b7c503a593b49539857915be6a969d7": {
          "model_module": "@jupyter-widgets/base",
          "model_module_version": "1.2.0",
          "model_name": "LayoutModel",
          "state": {
            "_model_module": "@jupyter-widgets/base",
            "_model_module_version": "1.2.0",
            "_model_name": "LayoutModel",
            "_view_count": null,
            "_view_module": "@jupyter-widgets/base",
            "_view_module_version": "1.2.0",
            "_view_name": "LayoutView",
            "align_content": null,
            "align_items": null,
            "align_self": null,
            "border": null,
            "bottom": null,
            "display": null,
            "flex": null,
            "flex_flow": null,
            "grid_area": null,
            "grid_auto_columns": null,
            "grid_auto_flow": null,
            "grid_auto_rows": null,
            "grid_column": null,
            "grid_gap": null,
            "grid_row": null,
            "grid_template_areas": null,
            "grid_template_columns": null,
            "grid_template_rows": null,
            "height": null,
            "justify_content": null,
            "justify_items": null,
            "left": null,
            "margin": null,
            "max_height": null,
            "max_width": null,
            "min_height": null,
            "min_width": null,
            "object_fit": null,
            "object_position": null,
            "order": null,
            "overflow": null,
            "overflow_x": null,
            "overflow_y": null,
            "padding": null,
            "right": null,
            "top": null,
            "visibility": null,
            "width": null
          }
        },
        "2f58ebfe119b40afa92c6309c9e34d67": {
          "model_module": "@jupyter-widgets/controls",
          "model_module_version": "1.5.0",
          "model_name": "DescriptionStyleModel",
          "state": {
            "_model_module": "@jupyter-widgets/controls",
            "_model_module_version": "1.5.0",
            "_model_name": "DescriptionStyleModel",
            "_view_count": null,
            "_view_module": "@jupyter-widgets/base",
            "_view_module_version": "1.2.0",
            "_view_name": "StyleView",
            "description_width": ""
          }
        },
        "3e21c83cc9634776be060a973752770a": {
          "model_module": "@jupyter-widgets/base",
          "model_module_version": "1.2.0",
          "model_name": "LayoutModel",
          "state": {
            "_model_module": "@jupyter-widgets/base",
            "_model_module_version": "1.2.0",
            "_model_name": "LayoutModel",
            "_view_count": null,
            "_view_module": "@jupyter-widgets/base",
            "_view_module_version": "1.2.0",
            "_view_name": "LayoutView",
            "align_content": null,
            "align_items": null,
            "align_self": null,
            "border": null,
            "bottom": null,
            "display": null,
            "flex": null,
            "flex_flow": null,
            "grid_area": null,
            "grid_auto_columns": null,
            "grid_auto_flow": null,
            "grid_auto_rows": null,
            "grid_column": null,
            "grid_gap": null,
            "grid_row": null,
            "grid_template_areas": null,
            "grid_template_columns": null,
            "grid_template_rows": null,
            "height": null,
            "justify_content": null,
            "justify_items": null,
            "left": null,
            "margin": null,
            "max_height": null,
            "max_width": null,
            "min_height": null,
            "min_width": null,
            "object_fit": null,
            "object_position": null,
            "order": null,
            "overflow": null,
            "overflow_x": null,
            "overflow_y": null,
            "padding": null,
            "right": null,
            "top": null,
            "visibility": null,
            "width": null
          }
        },
        "42aca408964946daa133e2567fbe34f1": {
          "model_module": "@jupyter-widgets/controls",
          "model_module_version": "1.5.0",
          "model_name": "FloatProgressModel",
          "state": {
            "_dom_classes": [],
            "_model_module": "@jupyter-widgets/controls",
            "_model_module_version": "1.5.0",
            "_model_name": "FloatProgressModel",
            "_view_count": null,
            "_view_module": "@jupyter-widgets/controls",
            "_view_module_version": "1.5.0",
            "_view_name": "ProgressView",
            "bar_style": "success",
            "description": "",
            "description_tooltip": null,
            "layout": "IPY_MODEL_bc3c6382262441149637e5616e7e2315",
            "max": 6481,
            "min": 0,
            "orientation": "horizontal",
            "style": "IPY_MODEL_618341c1f1af4e66b84c5f9042ac0cfd",
            "value": 6481
          }
        },
        "46dc6d3277bb46e6a3937b04989621e2": {
          "model_module": "@jupyter-widgets/controls",
          "model_module_version": "1.5.0",
          "model_name": "HTMLModel",
          "state": {
            "_dom_classes": [],
            "_model_module": "@jupyter-widgets/controls",
            "_model_module_version": "1.5.0",
            "_model_name": "HTMLModel",
            "_view_count": null,
            "_view_module": "@jupyter-widgets/controls",
            "_view_module_version": "1.5.0",
            "_view_name": "HTMLView",
            "description": "",
            "description_tooltip": null,
            "layout": "IPY_MODEL_95a62b42e8dc4d47bb880faa8beb5bd0",
            "placeholder": "​",
            "style": "IPY_MODEL_4d953ccd53ef4b28ab1895c2462b5c30",
            "value": "Downloading builder script: 100%"
          }
        },
        "474acc2677144ddfa39ce4002edfc9a7": {
          "model_module": "@jupyter-widgets/base",
          "model_module_version": "1.2.0",
          "model_name": "LayoutModel",
          "state": {
            "_model_module": "@jupyter-widgets/base",
            "_model_module_version": "1.2.0",
            "_model_name": "LayoutModel",
            "_view_count": null,
            "_view_module": "@jupyter-widgets/base",
            "_view_module_version": "1.2.0",
            "_view_name": "LayoutView",
            "align_content": null,
            "align_items": null,
            "align_self": null,
            "border": null,
            "bottom": null,
            "display": null,
            "flex": null,
            "flex_flow": null,
            "grid_area": null,
            "grid_auto_columns": null,
            "grid_auto_flow": null,
            "grid_auto_rows": null,
            "grid_column": null,
            "grid_gap": null,
            "grid_row": null,
            "grid_template_areas": null,
            "grid_template_columns": null,
            "grid_template_rows": null,
            "height": null,
            "justify_content": null,
            "justify_items": null,
            "left": null,
            "margin": null,
            "max_height": null,
            "max_width": null,
            "min_height": null,
            "min_width": null,
            "object_fit": null,
            "object_position": null,
            "order": null,
            "overflow": null,
            "overflow_x": null,
            "overflow_y": null,
            "padding": null,
            "right": null,
            "top": null,
            "visibility": null,
            "width": null
          }
        },
        "48c6acd3bd23448c84be942ac095084d": {
          "model_module": "@jupyter-widgets/controls",
          "model_module_version": "1.5.0",
          "model_name": "DescriptionStyleModel",
          "state": {
            "_model_module": "@jupyter-widgets/controls",
            "_model_module_version": "1.5.0",
            "_model_name": "DescriptionStyleModel",
            "_view_count": null,
            "_view_module": "@jupyter-widgets/base",
            "_view_module_version": "1.2.0",
            "_view_name": "StyleView",
            "description_width": ""
          }
        },
        "4a1ffaebf444441c81d93732f24ffc0b": {
          "model_module": "@jupyter-widgets/base",
          "model_module_version": "1.2.0",
          "model_name": "LayoutModel",
          "state": {
            "_model_module": "@jupyter-widgets/base",
            "_model_module_version": "1.2.0",
            "_model_name": "LayoutModel",
            "_view_count": null,
            "_view_module": "@jupyter-widgets/base",
            "_view_module_version": "1.2.0",
            "_view_name": "LayoutView",
            "align_content": null,
            "align_items": null,
            "align_self": null,
            "border": null,
            "bottom": null,
            "display": null,
            "flex": null,
            "flex_flow": null,
            "grid_area": null,
            "grid_auto_columns": null,
            "grid_auto_flow": null,
            "grid_auto_rows": null,
            "grid_column": null,
            "grid_gap": null,
            "grid_row": null,
            "grid_template_areas": null,
            "grid_template_columns": null,
            "grid_template_rows": null,
            "height": null,
            "justify_content": null,
            "justify_items": null,
            "left": null,
            "margin": null,
            "max_height": null,
            "max_width": null,
            "min_height": null,
            "min_width": null,
            "object_fit": null,
            "object_position": null,
            "order": null,
            "overflow": null,
            "overflow_x": null,
            "overflow_y": null,
            "padding": null,
            "right": null,
            "top": null,
            "visibility": null,
            "width": null
          }
        },
        "4c657852cbe74b89be109d0a6cca0f85": {
          "model_module": "@jupyter-widgets/controls",
          "model_module_version": "1.5.0",
          "model_name": "HTMLModel",
          "state": {
            "_dom_classes": [],
            "_model_module": "@jupyter-widgets/controls",
            "_model_module_version": "1.5.0",
            "_model_name": "HTMLModel",
            "_view_count": null,
            "_view_module": "@jupyter-widgets/controls",
            "_view_module_version": "1.5.0",
            "_view_name": "HTMLView",
            "description": "",
            "description_tooltip": null,
            "layout": "IPY_MODEL_3e21c83cc9634776be060a973752770a",
            "placeholder": "​",
            "style": "IPY_MODEL_b5eb6a64f15d4c36866bccb0c69c3690",
            "value": " 3.25k/3.25k [00:00&lt;00:00, 63.6kB/s]"
          }
        },
        "4d953ccd53ef4b28ab1895c2462b5c30": {
          "model_module": "@jupyter-widgets/controls",
          "model_module_version": "1.5.0",
          "model_name": "DescriptionStyleModel",
          "state": {
            "_model_module": "@jupyter-widgets/controls",
            "_model_module_version": "1.5.0",
            "_model_name": "DescriptionStyleModel",
            "_view_count": null,
            "_view_module": "@jupyter-widgets/base",
            "_view_module_version": "1.2.0",
            "_view_name": "StyleView",
            "description_width": ""
          }
        },
        "5080bc8cfd3c47a399755bfacfb3a90b": {
          "model_module": "@jupyter-widgets/base",
          "model_module_version": "1.2.0",
          "model_name": "LayoutModel",
          "state": {
            "_model_module": "@jupyter-widgets/base",
            "_model_module_version": "1.2.0",
            "_model_name": "LayoutModel",
            "_view_count": null,
            "_view_module": "@jupyter-widgets/base",
            "_view_module_version": "1.2.0",
            "_view_name": "LayoutView",
            "align_content": null,
            "align_items": null,
            "align_self": null,
            "border": null,
            "bottom": null,
            "display": null,
            "flex": null,
            "flex_flow": null,
            "grid_area": null,
            "grid_auto_columns": null,
            "grid_auto_flow": null,
            "grid_auto_rows": null,
            "grid_column": null,
            "grid_gap": null,
            "grid_row": null,
            "grid_template_areas": null,
            "grid_template_columns": null,
            "grid_template_rows": null,
            "height": null,
            "justify_content": null,
            "justify_items": null,
            "left": null,
            "margin": null,
            "max_height": null,
            "max_width": null,
            "min_height": null,
            "min_width": null,
            "object_fit": null,
            "object_position": null,
            "order": null,
            "overflow": null,
            "overflow_x": null,
            "overflow_y": null,
            "padding": null,
            "right": null,
            "top": null,
            "visibility": null,
            "width": null
          }
        },
        "50d4833736ca44e78fe1d8839c332fd3": {
          "model_module": "@jupyter-widgets/controls",
          "model_module_version": "1.5.0",
          "model_name": "HTMLModel",
          "state": {
            "_dom_classes": [],
            "_model_module": "@jupyter-widgets/controls",
            "_model_module_version": "1.5.0",
            "_model_name": "HTMLModel",
            "_view_count": null,
            "_view_module": "@jupyter-widgets/controls",
            "_view_module_version": "1.5.0",
            "_view_name": "HTMLView",
            "description": "",
            "description_tooltip": null,
            "layout": "IPY_MODEL_d126190f36944758b1e467a882145063",
            "placeholder": "​",
            "style": "IPY_MODEL_ba23c6bd6ced44329924f3f149823f28",
            "value": " 10/10 [00:15&lt;00:00,  1.52s/it]"
          }
        },
        "58ecb88ed65249c5bc1faa0714e127a5": {
          "model_module": "@jupyter-widgets/base",
          "model_module_version": "1.2.0",
          "model_name": "LayoutModel",
          "state": {
            "_model_module": "@jupyter-widgets/base",
            "_model_module_version": "1.2.0",
            "_model_name": "LayoutModel",
            "_view_count": null,
            "_view_module": "@jupyter-widgets/base",
            "_view_module_version": "1.2.0",
            "_view_name": "LayoutView",
            "align_content": null,
            "align_items": null,
            "align_self": null,
            "border": null,
            "bottom": null,
            "display": null,
            "flex": null,
            "flex_flow": null,
            "grid_area": null,
            "grid_auto_columns": null,
            "grid_auto_flow": null,
            "grid_auto_rows": null,
            "grid_column": null,
            "grid_gap": null,
            "grid_row": null,
            "grid_template_areas": null,
            "grid_template_columns": null,
            "grid_template_rows": null,
            "height": null,
            "justify_content": null,
            "justify_items": null,
            "left": null,
            "margin": null,
            "max_height": null,
            "max_width": null,
            "min_height": null,
            "min_width": null,
            "object_fit": null,
            "object_position": null,
            "order": null,
            "overflow": null,
            "overflow_x": null,
            "overflow_y": null,
            "padding": null,
            "right": null,
            "top": null,
            "visibility": null,
            "width": null
          }
        },
        "6003cd3237d5451fabde0f17231d1717": {
          "model_module": "@jupyter-widgets/controls",
          "model_module_version": "1.5.0",
          "model_name": "HTMLModel",
          "state": {
            "_dom_classes": [],
            "_model_module": "@jupyter-widgets/controls",
            "_model_module_version": "1.5.0",
            "_model_name": "HTMLModel",
            "_view_count": null,
            "_view_module": "@jupyter-widgets/controls",
            "_view_module_version": "1.5.0",
            "_view_name": "HTMLView",
            "description": "",
            "description_tooltip": null,
            "layout": "IPY_MODEL_79b083f8cc8f4f35aa41255c34ad75fe",
            "placeholder": "​",
            "style": "IPY_MODEL_7cac1f43afd64d40b02335871381f661",
            "value": " 1.67k/1.67k [00:00&lt;00:00, 114kB/s]"
          }
        },
        "618341c1f1af4e66b84c5f9042ac0cfd": {
          "model_module": "@jupyter-widgets/controls",
          "model_module_version": "1.5.0",
          "model_name": "ProgressStyleModel",
          "state": {
            "_model_module": "@jupyter-widgets/controls",
            "_model_module_version": "1.5.0",
            "_model_name": "ProgressStyleModel",
            "_view_count": null,
            "_view_module": "@jupyter-widgets/base",
            "_view_module_version": "1.2.0",
            "_view_name": "StyleView",
            "bar_color": null,
            "description_width": ""
          }
        },
        "63aebb8e313d4638bb3d860ace9f10ea": {
          "model_module": "@jupyter-widgets/controls",
          "model_module_version": "1.5.0",
          "model_name": "HBoxModel",
          "state": {
            "_dom_classes": [],
            "_model_module": "@jupyter-widgets/controls",
            "_model_module_version": "1.5.0",
            "_model_name": "HBoxModel",
            "_view_count": null,
            "_view_module": "@jupyter-widgets/controls",
            "_view_module_version": "1.5.0",
            "_view_name": "HBoxView",
            "box_style": "",
            "children": [
              "IPY_MODEL_e350ad92a3374b31b1890c1dc5012c60",
              "IPY_MODEL_42aca408964946daa133e2567fbe34f1",
              "IPY_MODEL_6f6720ce03064e7a9c8b1a441a83c8e8"
            ],
            "layout": "IPY_MODEL_f27b8063155348e6b7d2cd399d6c7b5f"
          }
        },
        "68977679a8934c5f9a2130b18dcc3076": {
          "model_module": "@jupyter-widgets/controls",
          "model_module_version": "1.5.0",
          "model_name": "HBoxModel",
          "state": {
            "_dom_classes": [],
            "_model_module": "@jupyter-widgets/controls",
            "_model_module_version": "1.5.0",
            "_model_name": "HBoxModel",
            "_view_count": null,
            "_view_module": "@jupyter-widgets/controls",
            "_view_module_version": "1.5.0",
            "_view_name": "HBoxView",
            "box_style": "",
            "children": [
              "IPY_MODEL_8e05783ee16f43b89611f0d349a1570c",
              "IPY_MODEL_b93beeaa62c645afaf996883d92b9e39",
              "IPY_MODEL_6003cd3237d5451fabde0f17231d1717"
            ],
            "layout": "IPY_MODEL_2b7c503a593b49539857915be6a969d7"
          }
        },
        "6a0fd2f6fad7470bb0718a7441d895e3": {
          "model_module": "@jupyter-widgets/controls",
          "model_module_version": "1.5.0",
          "model_name": "ProgressStyleModel",
          "state": {
            "_model_module": "@jupyter-widgets/controls",
            "_model_module_version": "1.5.0",
            "_model_name": "ProgressStyleModel",
            "_view_count": null,
            "_view_module": "@jupyter-widgets/base",
            "_view_module_version": "1.2.0",
            "_view_name": "StyleView",
            "bar_color": null,
            "description_width": ""
          }
        },
        "6de56887fbb644048ce6536e0717e255": {
          "model_module": "@jupyter-widgets/base",
          "model_module_version": "1.2.0",
          "model_name": "LayoutModel",
          "state": {
            "_model_module": "@jupyter-widgets/base",
            "_model_module_version": "1.2.0",
            "_model_name": "LayoutModel",
            "_view_count": null,
            "_view_module": "@jupyter-widgets/base",
            "_view_module_version": "1.2.0",
            "_view_name": "LayoutView",
            "align_content": null,
            "align_items": null,
            "align_self": null,
            "border": null,
            "bottom": null,
            "display": null,
            "flex": null,
            "flex_flow": null,
            "grid_area": null,
            "grid_auto_columns": null,
            "grid_auto_flow": null,
            "grid_auto_rows": null,
            "grid_column": null,
            "grid_gap": null,
            "grid_row": null,
            "grid_template_areas": null,
            "grid_template_columns": null,
            "grid_template_rows": null,
            "height": null,
            "justify_content": null,
            "justify_items": null,
            "left": null,
            "margin": null,
            "max_height": null,
            "max_width": null,
            "min_height": null,
            "min_width": null,
            "object_fit": null,
            "object_position": null,
            "order": null,
            "overflow": null,
            "overflow_x": null,
            "overflow_y": null,
            "padding": null,
            "right": null,
            "top": null,
            "visibility": null,
            "width": null
          }
        },
        "6f6720ce03064e7a9c8b1a441a83c8e8": {
          "model_module": "@jupyter-widgets/controls",
          "model_module_version": "1.5.0",
          "model_name": "HTMLModel",
          "state": {
            "_dom_classes": [],
            "_model_module": "@jupyter-widgets/controls",
            "_model_module_version": "1.5.0",
            "_model_name": "HTMLModel",
            "_view_count": null,
            "_view_module": "@jupyter-widgets/controls",
            "_view_module_version": "1.5.0",
            "_view_name": "HTMLView",
            "description": "",
            "description_tooltip": null,
            "layout": "IPY_MODEL_126aaff701f44d03bc815964c8157b4b",
            "placeholder": "​",
            "style": "IPY_MODEL_a2d047f74e9c431189b0caba1ce905c5",
            "value": " 6.48k/6.48k [00:00&lt;00:00, 371kB/s]"
          }
        },
        "74ba0b5ddcbe4a7ca49e453d9414b85a": {
          "model_module": "@jupyter-widgets/base",
          "model_module_version": "1.2.0",
          "model_name": "LayoutModel",
          "state": {
            "_model_module": "@jupyter-widgets/base",
            "_model_module_version": "1.2.0",
            "_model_name": "LayoutModel",
            "_view_count": null,
            "_view_module": "@jupyter-widgets/base",
            "_view_module_version": "1.2.0",
            "_view_name": "LayoutView",
            "align_content": null,
            "align_items": null,
            "align_self": null,
            "border": null,
            "bottom": null,
            "display": null,
            "flex": null,
            "flex_flow": null,
            "grid_area": null,
            "grid_auto_columns": null,
            "grid_auto_flow": null,
            "grid_auto_rows": null,
            "grid_column": null,
            "grid_gap": null,
            "grid_row": null,
            "grid_template_areas": null,
            "grid_template_columns": null,
            "grid_template_rows": null,
            "height": null,
            "justify_content": null,
            "justify_items": null,
            "left": null,
            "margin": null,
            "max_height": null,
            "max_width": null,
            "min_height": null,
            "min_width": null,
            "object_fit": null,
            "object_position": null,
            "order": null,
            "overflow": null,
            "overflow_x": null,
            "overflow_y": null,
            "padding": null,
            "right": null,
            "top": null,
            "visibility": null,
            "width": null
          }
        },
        "77bfb7c616e0479292a0824be4f9e912": {
          "model_module": "@jupyter-widgets/controls",
          "model_module_version": "1.5.0",
          "model_name": "HBoxModel",
          "state": {
            "_dom_classes": [],
            "_model_module": "@jupyter-widgets/controls",
            "_model_module_version": "1.5.0",
            "_model_name": "HBoxModel",
            "_view_count": null,
            "_view_module": "@jupyter-widgets/controls",
            "_view_module_version": "1.5.0",
            "_view_name": "HBoxView",
            "box_style": "",
            "children": [
              "IPY_MODEL_b14dcb7522fa45cda5b63104fa09fd88",
              "IPY_MODEL_85502d6cb15e4097a90d3535aacf5bcf",
              "IPY_MODEL_cc9892215eba4a09856c6f6f9538e841"
            ],
            "layout": "IPY_MODEL_92ec5d7fc7a543249d3e1dffb0d9050e"
          }
        },
        "79b083f8cc8f4f35aa41255c34ad75fe": {
          "model_module": "@jupyter-widgets/base",
          "model_module_version": "1.2.0",
          "model_name": "LayoutModel",
          "state": {
            "_model_module": "@jupyter-widgets/base",
            "_model_module_version": "1.2.0",
            "_model_name": "LayoutModel",
            "_view_count": null,
            "_view_module": "@jupyter-widgets/base",
            "_view_module_version": "1.2.0",
            "_view_name": "LayoutView",
            "align_content": null,
            "align_items": null,
            "align_self": null,
            "border": null,
            "bottom": null,
            "display": null,
            "flex": null,
            "flex_flow": null,
            "grid_area": null,
            "grid_auto_columns": null,
            "grid_auto_flow": null,
            "grid_auto_rows": null,
            "grid_column": null,
            "grid_gap": null,
            "grid_row": null,
            "grid_template_areas": null,
            "grid_template_columns": null,
            "grid_template_rows": null,
            "height": null,
            "justify_content": null,
            "justify_items": null,
            "left": null,
            "margin": null,
            "max_height": null,
            "max_width": null,
            "min_height": null,
            "min_width": null,
            "object_fit": null,
            "object_position": null,
            "order": null,
            "overflow": null,
            "overflow_x": null,
            "overflow_y": null,
            "padding": null,
            "right": null,
            "top": null,
            "visibility": null,
            "width": null
          }
        },
        "7b1679818b534d01b707538c8bc7872e": {
          "model_module": "@jupyter-widgets/controls",
          "model_module_version": "1.5.0",
          "model_name": "DescriptionStyleModel",
          "state": {
            "_model_module": "@jupyter-widgets/controls",
            "_model_module_version": "1.5.0",
            "_model_name": "DescriptionStyleModel",
            "_view_count": null,
            "_view_module": "@jupyter-widgets/base",
            "_view_module_version": "1.2.0",
            "_view_name": "StyleView",
            "description_width": ""
          }
        },
        "7cac1f43afd64d40b02335871381f661": {
          "model_module": "@jupyter-widgets/controls",
          "model_module_version": "1.5.0",
          "model_name": "DescriptionStyleModel",
          "state": {
            "_model_module": "@jupyter-widgets/controls",
            "_model_module_version": "1.5.0",
            "_model_name": "DescriptionStyleModel",
            "_view_count": null,
            "_view_module": "@jupyter-widgets/base",
            "_view_module_version": "1.2.0",
            "_view_name": "StyleView",
            "description_width": ""
          }
        },
        "85502d6cb15e4097a90d3535aacf5bcf": {
          "model_module": "@jupyter-widgets/controls",
          "model_module_version": "1.5.0",
          "model_name": "FloatProgressModel",
          "state": {
            "_dom_classes": [],
            "_model_module": "@jupyter-widgets/controls",
            "_model_module_version": "1.5.0",
            "_model_name": "FloatProgressModel",
            "_view_count": null,
            "_view_module": "@jupyter-widgets/controls",
            "_view_module_version": "1.5.0",
            "_view_name": "ProgressView",
            "bar_style": "success",
            "description": "",
            "description_tooltip": null,
            "layout": "IPY_MODEL_58ecb88ed65249c5bc1faa0714e127a5",
            "max": 100,
            "min": 0,
            "orientation": "horizontal",
            "style": "IPY_MODEL_6a0fd2f6fad7470bb0718a7441d895e3",
            "value": 100
          }
        },
        "8e05783ee16f43b89611f0d349a1570c": {
          "model_module": "@jupyter-widgets/controls",
          "model_module_version": "1.5.0",
          "model_name": "HTMLModel",
          "state": {
            "_dom_classes": [],
            "_model_module": "@jupyter-widgets/controls",
            "_model_module_version": "1.5.0",
            "_model_name": "HTMLModel",
            "_view_count": null,
            "_view_module": "@jupyter-widgets/controls",
            "_view_module_version": "1.5.0",
            "_view_name": "HTMLView",
            "description": "",
            "description_tooltip": null,
            "layout": "IPY_MODEL_74ba0b5ddcbe4a7ca49e453d9414b85a",
            "placeholder": "​",
            "style": "IPY_MODEL_f69bb041efd34f72aa09d2854d27581d",
            "value": "Downloading metadata: 100%"
          }
        },
        "8e3d00f6829e4316a1291800919b4797": {
          "model_module": "@jupyter-widgets/controls",
          "model_module_version": "1.5.0",
          "model_name": "DescriptionStyleModel",
          "state": {
            "_model_module": "@jupyter-widgets/controls",
            "_model_module_version": "1.5.0",
            "_model_name": "DescriptionStyleModel",
            "_view_count": null,
            "_view_module": "@jupyter-widgets/base",
            "_view_module_version": "1.2.0",
            "_view_name": "StyleView",
            "description_width": ""
          }
        },
        "910b6a506b1e4f20abb03fc1b9c63b46": {
          "model_module": "@jupyter-widgets/controls",
          "model_module_version": "1.5.0",
          "model_name": "HTMLModel",
          "state": {
            "_dom_classes": [],
            "_model_module": "@jupyter-widgets/controls",
            "_model_module_version": "1.5.0",
            "_model_name": "HTMLModel",
            "_view_count": null,
            "_view_module": "@jupyter-widgets/controls",
            "_view_module_version": "1.5.0",
            "_view_name": "HTMLView",
            "description": "",
            "description_tooltip": null,
            "layout": "IPY_MODEL_4a1ffaebf444441c81d93732f24ffc0b",
            "placeholder": "​",
            "style": "IPY_MODEL_7b1679818b534d01b707538c8bc7872e",
            "value": "100%"
          }
        },
        "92ec5d7fc7a543249d3e1dffb0d9050e": {
          "model_module": "@jupyter-widgets/base",
          "model_module_version": "1.2.0",
          "model_name": "LayoutModel",
          "state": {
            "_model_module": "@jupyter-widgets/base",
            "_model_module_version": "1.2.0",
            "_model_name": "LayoutModel",
            "_view_count": null,
            "_view_module": "@jupyter-widgets/base",
            "_view_module_version": "1.2.0",
            "_view_name": "LayoutView",
            "align_content": null,
            "align_items": null,
            "align_self": null,
            "border": null,
            "bottom": null,
            "display": null,
            "flex": null,
            "flex_flow": null,
            "grid_area": null,
            "grid_auto_columns": null,
            "grid_auto_flow": null,
            "grid_auto_rows": null,
            "grid_column": null,
            "grid_gap": null,
            "grid_row": null,
            "grid_template_areas": null,
            "grid_template_columns": null,
            "grid_template_rows": null,
            "height": null,
            "justify_content": null,
            "justify_items": null,
            "left": null,
            "margin": null,
            "max_height": null,
            "max_width": null,
            "min_height": null,
            "min_width": null,
            "object_fit": null,
            "object_position": null,
            "order": null,
            "overflow": null,
            "overflow_x": null,
            "overflow_y": null,
            "padding": null,
            "right": null,
            "top": null,
            "visibility": null,
            "width": null
          }
        },
        "95a62b42e8dc4d47bb880faa8beb5bd0": {
          "model_module": "@jupyter-widgets/base",
          "model_module_version": "1.2.0",
          "model_name": "LayoutModel",
          "state": {
            "_model_module": "@jupyter-widgets/base",
            "_model_module_version": "1.2.0",
            "_model_name": "LayoutModel",
            "_view_count": null,
            "_view_module": "@jupyter-widgets/base",
            "_view_module_version": "1.2.0",
            "_view_name": "LayoutView",
            "align_content": null,
            "align_items": null,
            "align_self": null,
            "border": null,
            "bottom": null,
            "display": null,
            "flex": null,
            "flex_flow": null,
            "grid_area": null,
            "grid_auto_columns": null,
            "grid_auto_flow": null,
            "grid_auto_rows": null,
            "grid_column": null,
            "grid_gap": null,
            "grid_row": null,
            "grid_template_areas": null,
            "grid_template_columns": null,
            "grid_template_rows": null,
            "height": null,
            "justify_content": null,
            "justify_items": null,
            "left": null,
            "margin": null,
            "max_height": null,
            "max_width": null,
            "min_height": null,
            "min_width": null,
            "object_fit": null,
            "object_position": null,
            "order": null,
            "overflow": null,
            "overflow_x": null,
            "overflow_y": null,
            "padding": null,
            "right": null,
            "top": null,
            "visibility": null,
            "width": null
          }
        },
        "a018f8b9057e43d1ae135ed5883c8ca1": {
          "model_module": "@jupyter-widgets/controls",
          "model_module_version": "1.5.0",
          "model_name": "ProgressStyleModel",
          "state": {
            "_model_module": "@jupyter-widgets/controls",
            "_model_module_version": "1.5.0",
            "_model_name": "ProgressStyleModel",
            "_view_count": null,
            "_view_module": "@jupyter-widgets/base",
            "_view_module_version": "1.2.0",
            "_view_name": "StyleView",
            "bar_color": null,
            "description_width": ""
          }
        },
        "a2d047f74e9c431189b0caba1ce905c5": {
          "model_module": "@jupyter-widgets/controls",
          "model_module_version": "1.5.0",
          "model_name": "DescriptionStyleModel",
          "state": {
            "_model_module": "@jupyter-widgets/controls",
            "_model_module_version": "1.5.0",
            "_model_name": "DescriptionStyleModel",
            "_view_count": null,
            "_view_module": "@jupyter-widgets/base",
            "_view_module_version": "1.2.0",
            "_view_name": "StyleView",
            "description_width": ""
          }
        },
        "a6cf7efc20434b048f8bea6206575a6f": {
          "model_module": "@jupyter-widgets/controls",
          "model_module_version": "1.5.0",
          "model_name": "HBoxModel",
          "state": {
            "_dom_classes": [],
            "_model_module": "@jupyter-widgets/controls",
            "_model_module_version": "1.5.0",
            "_model_name": "HBoxModel",
            "_view_count": null,
            "_view_module": "@jupyter-widgets/controls",
            "_view_module_version": "1.5.0",
            "_view_name": "HBoxView",
            "box_style": "",
            "children": [
              "IPY_MODEL_46dc6d3277bb46e6a3937b04989621e2",
              "IPY_MODEL_c4380d630fe041edb2227b65ea70ab45",
              "IPY_MODEL_4c657852cbe74b89be109d0a6cca0f85"
            ],
            "layout": "IPY_MODEL_1d7769d7675a48bb8e53d542a1850991"
          }
        },
        "ac3b07830ab043e8a5c1a1bf517ffa87": {
          "model_module": "@jupyter-widgets/controls",
          "model_module_version": "1.5.0",
          "model_name": "HBoxModel",
          "state": {
            "_dom_classes": [],
            "_model_module": "@jupyter-widgets/controls",
            "_model_module_version": "1.5.0",
            "_model_name": "HBoxModel",
            "_view_count": null,
            "_view_module": "@jupyter-widgets/controls",
            "_view_module_version": "1.5.0",
            "_view_name": "HBoxView",
            "box_style": "",
            "children": [
              "IPY_MODEL_910b6a506b1e4f20abb03fc1b9c63b46",
              "IPY_MODEL_1fc2154901cd4ac9bd61b6ec704ccde1",
              "IPY_MODEL_50d4833736ca44e78fe1d8839c332fd3"
            ],
            "layout": "IPY_MODEL_474acc2677144ddfa39ce4002edfc9a7"
          }
        },
        "b14dcb7522fa45cda5b63104fa09fd88": {
          "model_module": "@jupyter-widgets/controls",
          "model_module_version": "1.5.0",
          "model_name": "HTMLModel",
          "state": {
            "_dom_classes": [],
            "_model_module": "@jupyter-widgets/controls",
            "_model_module_version": "1.5.0",
            "_model_name": "HTMLModel",
            "_view_count": null,
            "_view_module": "@jupyter-widgets/controls",
            "_view_module_version": "1.5.0",
            "_view_name": "HTMLView",
            "description": "",
            "description_tooltip": null,
            "layout": "IPY_MODEL_5080bc8cfd3c47a399755bfacfb3a90b",
            "placeholder": "​",
            "style": "IPY_MODEL_2f58ebfe119b40afa92c6309c9e34d67",
            "value": "100%"
          }
        },
        "b5eb6a64f15d4c36866bccb0c69c3690": {
          "model_module": "@jupyter-widgets/controls",
          "model_module_version": "1.5.0",
          "model_name": "DescriptionStyleModel",
          "state": {
            "_model_module": "@jupyter-widgets/controls",
            "_model_module_version": "1.5.0",
            "_model_name": "DescriptionStyleModel",
            "_view_count": null,
            "_view_module": "@jupyter-widgets/base",
            "_view_module_version": "1.2.0",
            "_view_name": "StyleView",
            "description_width": ""
          }
        },
        "b8feb00483fb4bd985f4091a4405ce67": {
          "model_module": "@jupyter-widgets/controls",
          "model_module_version": "1.5.0",
          "model_name": "ProgressStyleModel",
          "state": {
            "_model_module": "@jupyter-widgets/controls",
            "_model_module_version": "1.5.0",
            "_model_name": "ProgressStyleModel",
            "_view_count": null,
            "_view_module": "@jupyter-widgets/base",
            "_view_module_version": "1.2.0",
            "_view_name": "StyleView",
            "bar_color": null,
            "description_width": ""
          }
        },
        "b93beeaa62c645afaf996883d92b9e39": {
          "model_module": "@jupyter-widgets/controls",
          "model_module_version": "1.5.0",
          "model_name": "FloatProgressModel",
          "state": {
            "_dom_classes": [],
            "_model_module": "@jupyter-widgets/controls",
            "_model_module_version": "1.5.0",
            "_model_name": "FloatProgressModel",
            "_view_count": null,
            "_view_module": "@jupyter-widgets/controls",
            "_view_module_version": "1.5.0",
            "_view_name": "ProgressView",
            "bar_style": "success",
            "description": "",
            "description_tooltip": null,
            "layout": "IPY_MODEL_6de56887fbb644048ce6536e0717e255",
            "max": 1666,
            "min": 0,
            "orientation": "horizontal",
            "style": "IPY_MODEL_b8feb00483fb4bd985f4091a4405ce67",
            "value": 1666
          }
        },
        "ba23c6bd6ced44329924f3f149823f28": {
          "model_module": "@jupyter-widgets/controls",
          "model_module_version": "1.5.0",
          "model_name": "DescriptionStyleModel",
          "state": {
            "_model_module": "@jupyter-widgets/controls",
            "_model_module_version": "1.5.0",
            "_model_name": "DescriptionStyleModel",
            "_view_count": null,
            "_view_module": "@jupyter-widgets/base",
            "_view_module_version": "1.2.0",
            "_view_name": "StyleView",
            "description_width": ""
          }
        },
        "bc3c6382262441149637e5616e7e2315": {
          "model_module": "@jupyter-widgets/base",
          "model_module_version": "1.2.0",
          "model_name": "LayoutModel",
          "state": {
            "_model_module": "@jupyter-widgets/base",
            "_model_module_version": "1.2.0",
            "_model_name": "LayoutModel",
            "_view_count": null,
            "_view_module": "@jupyter-widgets/base",
            "_view_module_version": "1.2.0",
            "_view_name": "LayoutView",
            "align_content": null,
            "align_items": null,
            "align_self": null,
            "border": null,
            "bottom": null,
            "display": null,
            "flex": null,
            "flex_flow": null,
            "grid_area": null,
            "grid_auto_columns": null,
            "grid_auto_flow": null,
            "grid_auto_rows": null,
            "grid_column": null,
            "grid_gap": null,
            "grid_row": null,
            "grid_template_areas": null,
            "grid_template_columns": null,
            "grid_template_rows": null,
            "height": null,
            "justify_content": null,
            "justify_items": null,
            "left": null,
            "margin": null,
            "max_height": null,
            "max_width": null,
            "min_height": null,
            "min_width": null,
            "object_fit": null,
            "object_position": null,
            "order": null,
            "overflow": null,
            "overflow_x": null,
            "overflow_y": null,
            "padding": null,
            "right": null,
            "top": null,
            "visibility": null,
            "width": null
          }
        },
        "c4380d630fe041edb2227b65ea70ab45": {
          "model_module": "@jupyter-widgets/controls",
          "model_module_version": "1.5.0",
          "model_name": "FloatProgressModel",
          "state": {
            "_dom_classes": [],
            "_model_module": "@jupyter-widgets/controls",
            "_model_module_version": "1.5.0",
            "_model_name": "FloatProgressModel",
            "_view_count": null,
            "_view_module": "@jupyter-widgets/controls",
            "_view_module_version": "1.5.0",
            "_view_name": "ProgressView",
            "bar_style": "success",
            "description": "",
            "description_tooltip": null,
            "layout": "IPY_MODEL_d0a15c82c5554e58a305a88eb519c642",
            "max": 3246,
            "min": 0,
            "orientation": "horizontal",
            "style": "IPY_MODEL_a018f8b9057e43d1ae135ed5883c8ca1",
            "value": 3246
          }
        },
        "cb84f885bd2840c2aa1f3f8f5c55b286": {
          "model_module": "@jupyter-widgets/base",
          "model_module_version": "1.2.0",
          "model_name": "LayoutModel",
          "state": {
            "_model_module": "@jupyter-widgets/base",
            "_model_module_version": "1.2.0",
            "_model_name": "LayoutModel",
            "_view_count": null,
            "_view_module": "@jupyter-widgets/base",
            "_view_module_version": "1.2.0",
            "_view_name": "LayoutView",
            "align_content": null,
            "align_items": null,
            "align_self": null,
            "border": null,
            "bottom": null,
            "display": null,
            "flex": null,
            "flex_flow": null,
            "grid_area": null,
            "grid_auto_columns": null,
            "grid_auto_flow": null,
            "grid_auto_rows": null,
            "grid_column": null,
            "grid_gap": null,
            "grid_row": null,
            "grid_template_areas": null,
            "grid_template_columns": null,
            "grid_template_rows": null,
            "height": null,
            "justify_content": null,
            "justify_items": null,
            "left": null,
            "margin": null,
            "max_height": null,
            "max_width": null,
            "min_height": null,
            "min_width": null,
            "object_fit": null,
            "object_position": null,
            "order": null,
            "overflow": null,
            "overflow_x": null,
            "overflow_y": null,
            "padding": null,
            "right": null,
            "top": null,
            "visibility": null,
            "width": null
          }
        },
        "cc9892215eba4a09856c6f6f9538e841": {
          "model_module": "@jupyter-widgets/controls",
          "model_module_version": "1.5.0",
          "model_name": "HTMLModel",
          "state": {
            "_dom_classes": [],
            "_model_module": "@jupyter-widgets/controls",
            "_model_module_version": "1.5.0",
            "_model_name": "HTMLModel",
            "_view_count": null,
            "_view_module": "@jupyter-widgets/controls",
            "_view_module_version": "1.5.0",
            "_view_name": "HTMLView",
            "description": "",
            "description_tooltip": null,
            "layout": "IPY_MODEL_cb84f885bd2840c2aa1f3f8f5c55b286",
            "placeholder": "​",
            "style": "IPY_MODEL_8e3d00f6829e4316a1291800919b4797",
            "value": " 100/100 [00:54&lt;00:00,  2.30it/s]"
          }
        },
        "d0a15c82c5554e58a305a88eb519c642": {
          "model_module": "@jupyter-widgets/base",
          "model_module_version": "1.2.0",
          "model_name": "LayoutModel",
          "state": {
            "_model_module": "@jupyter-widgets/base",
            "_model_module_version": "1.2.0",
            "_model_name": "LayoutModel",
            "_view_count": null,
            "_view_module": "@jupyter-widgets/base",
            "_view_module_version": "1.2.0",
            "_view_name": "LayoutView",
            "align_content": null,
            "align_items": null,
            "align_self": null,
            "border": null,
            "bottom": null,
            "display": null,
            "flex": null,
            "flex_flow": null,
            "grid_area": null,
            "grid_auto_columns": null,
            "grid_auto_flow": null,
            "grid_auto_rows": null,
            "grid_column": null,
            "grid_gap": null,
            "grid_row": null,
            "grid_template_areas": null,
            "grid_template_columns": null,
            "grid_template_rows": null,
            "height": null,
            "justify_content": null,
            "justify_items": null,
            "left": null,
            "margin": null,
            "max_height": null,
            "max_width": null,
            "min_height": null,
            "min_width": null,
            "object_fit": null,
            "object_position": null,
            "order": null,
            "overflow": null,
            "overflow_x": null,
            "overflow_y": null,
            "padding": null,
            "right": null,
            "top": null,
            "visibility": null,
            "width": null
          }
        },
        "d126190f36944758b1e467a882145063": {
          "model_module": "@jupyter-widgets/base",
          "model_module_version": "1.2.0",
          "model_name": "LayoutModel",
          "state": {
            "_model_module": "@jupyter-widgets/base",
            "_model_module_version": "1.2.0",
            "_model_name": "LayoutModel",
            "_view_count": null,
            "_view_module": "@jupyter-widgets/base",
            "_view_module_version": "1.2.0",
            "_view_name": "LayoutView",
            "align_content": null,
            "align_items": null,
            "align_self": null,
            "border": null,
            "bottom": null,
            "display": null,
            "flex": null,
            "flex_flow": null,
            "grid_area": null,
            "grid_auto_columns": null,
            "grid_auto_flow": null,
            "grid_auto_rows": null,
            "grid_column": null,
            "grid_gap": null,
            "grid_row": null,
            "grid_template_areas": null,
            "grid_template_columns": null,
            "grid_template_rows": null,
            "height": null,
            "justify_content": null,
            "justify_items": null,
            "left": null,
            "margin": null,
            "max_height": null,
            "max_width": null,
            "min_height": null,
            "min_width": null,
            "object_fit": null,
            "object_position": null,
            "order": null,
            "overflow": null,
            "overflow_x": null,
            "overflow_y": null,
            "padding": null,
            "right": null,
            "top": null,
            "visibility": null,
            "width": null
          }
        },
        "e350ad92a3374b31b1890c1dc5012c60": {
          "model_module": "@jupyter-widgets/controls",
          "model_module_version": "1.5.0",
          "model_name": "HTMLModel",
          "state": {
            "_dom_classes": [],
            "_model_module": "@jupyter-widgets/controls",
            "_model_module_version": "1.5.0",
            "_model_name": "HTMLModel",
            "_view_count": null,
            "_view_module": "@jupyter-widgets/controls",
            "_view_module_version": "1.5.0",
            "_view_name": "HTMLView",
            "description": "",
            "description_tooltip": null,
            "layout": "IPY_MODEL_07d9e920a29642508de88733fdcbcf85",
            "placeholder": "​",
            "style": "IPY_MODEL_48c6acd3bd23448c84be942ac095084d",
            "value": "Downloading readme: 100%"
          }
        },
        "eacdc046df644c6ba8412d297a4f59d0": {
          "model_module": "@jupyter-widgets/base",
          "model_module_version": "1.2.0",
          "model_name": "LayoutModel",
          "state": {
            "_model_module": "@jupyter-widgets/base",
            "_model_module_version": "1.2.0",
            "_model_name": "LayoutModel",
            "_view_count": null,
            "_view_module": "@jupyter-widgets/base",
            "_view_module_version": "1.2.0",
            "_view_name": "LayoutView",
            "align_content": null,
            "align_items": null,
            "align_self": null,
            "border": null,
            "bottom": null,
            "display": null,
            "flex": null,
            "flex_flow": null,
            "grid_area": null,
            "grid_auto_columns": null,
            "grid_auto_flow": null,
            "grid_auto_rows": null,
            "grid_column": null,
            "grid_gap": null,
            "grid_row": null,
            "grid_template_areas": null,
            "grid_template_columns": null,
            "grid_template_rows": null,
            "height": null,
            "justify_content": null,
            "justify_items": null,
            "left": null,
            "margin": null,
            "max_height": null,
            "max_width": null,
            "min_height": null,
            "min_width": null,
            "object_fit": null,
            "object_position": null,
            "order": null,
            "overflow": null,
            "overflow_x": null,
            "overflow_y": null,
            "padding": null,
            "right": null,
            "top": null,
            "visibility": null,
            "width": null
          }
        },
        "f27b8063155348e6b7d2cd399d6c7b5f": {
          "model_module": "@jupyter-widgets/base",
          "model_module_version": "1.2.0",
          "model_name": "LayoutModel",
          "state": {
            "_model_module": "@jupyter-widgets/base",
            "_model_module_version": "1.2.0",
            "_model_name": "LayoutModel",
            "_view_count": null,
            "_view_module": "@jupyter-widgets/base",
            "_view_module_version": "1.2.0",
            "_view_name": "LayoutView",
            "align_content": null,
            "align_items": null,
            "align_self": null,
            "border": null,
            "bottom": null,
            "display": null,
            "flex": null,
            "flex_flow": null,
            "grid_area": null,
            "grid_auto_columns": null,
            "grid_auto_flow": null,
            "grid_auto_rows": null,
            "grid_column": null,
            "grid_gap": null,
            "grid_row": null,
            "grid_template_areas": null,
            "grid_template_columns": null,
            "grid_template_rows": null,
            "height": null,
            "justify_content": null,
            "justify_items": null,
            "left": null,
            "margin": null,
            "max_height": null,
            "max_width": null,
            "min_height": null,
            "min_width": null,
            "object_fit": null,
            "object_position": null,
            "order": null,
            "overflow": null,
            "overflow_x": null,
            "overflow_y": null,
            "padding": null,
            "right": null,
            "top": null,
            "visibility": null,
            "width": null
          }
        },
        "f69bb041efd34f72aa09d2854d27581d": {
          "model_module": "@jupyter-widgets/controls",
          "model_module_version": "1.5.0",
          "model_name": "DescriptionStyleModel",
          "state": {
            "_model_module": "@jupyter-widgets/controls",
            "_model_module_version": "1.5.0",
            "_model_name": "DescriptionStyleModel",
            "_view_count": null,
            "_view_module": "@jupyter-widgets/base",
            "_view_module_version": "1.2.0",
            "_view_name": "StyleView",
            "description_width": ""
          }
        }
      }
    }
  },
  "nbformat": 4,
  "nbformat_minor": 0
}
